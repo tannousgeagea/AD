{
 "cells": [
  {
   "cell_type": "code",
   "execution_count": 3,
   "id": "66a2e5bd-44ad-443b-974c-2cfb7fe7f3f5",
   "metadata": {},
   "outputs": [],
   "source": [
    "from main import train"
   ]
  },
  {
   "cell_type": "code",
   "execution_count": 4,
   "id": "ddf2b3e3-5afa-4509-b5fd-3002a6fd11bf",
   "metadata": {},
   "outputs": [
    {
     "name": "stdout",
     "output_type": "stream",
     "text": [
      "2 are Found: ['../Datasets/datasets-00//train/Running', '../Datasets/datasets-00//train/Walking']\n",
      "Loading Running........\n",
      "--------------------------------\n",
      "Loading Walking........\n",
      "--------------------------------\n",
      "using Adam\n",
      "Raduis: 0.2\n",
      "Lamda: 1\n"
     ]
    },
    {
     "ename": "NameError",
     "evalue": "name 'gamma' is not defined",
     "output_type": "error",
     "traceback": [
      "\u001b[1;31m---------------------------------------------------------------------------\u001b[0m",
      "\u001b[1;31mNameError\u001b[0m                                 Traceback (most recent call last)",
      "Input \u001b[1;32mIn [4]\u001b[0m, in \u001b[0;36m<cell line: 1>\u001b[1;34m()\u001b[0m\n\u001b[1;32m----> 1\u001b[0m \u001b[43mtrain\u001b[49m\u001b[43m(\u001b[49m\u001b[43mmodelName\u001b[49m\u001b[38;5;241;43m=\u001b[39;49m\u001b[38;5;124;43m'\u001b[39;49m\u001b[38;5;124;43mdrocc\u001b[39;49m\u001b[38;5;124;43m'\u001b[39;49m\u001b[43m,\u001b[49m\u001b[43m \u001b[49m\u001b[43msource\u001b[49m\u001b[38;5;241;43m=\u001b[39;49m\u001b[38;5;124;43m'\u001b[39;49m\u001b[38;5;124;43m../Datasets/datasets-00/\u001b[39;49m\u001b[38;5;124;43m'\u001b[39;49m\u001b[43m,\u001b[49m\u001b[43m \u001b[49m\u001b[43mbatch_size\u001b[49m\u001b[38;5;241;43m=\u001b[39;49m\u001b[38;5;241;43m8\u001b[39;49m\u001b[43m,\u001b[49m\u001b[43m \u001b[49m\n\u001b[0;32m      2\u001b[0m \u001b[43m      \u001b[49m\u001b[43mlr\u001b[49m\u001b[38;5;241;43m=\u001b[39;49m\u001b[38;5;241;43m0.0001\u001b[39;49m\u001b[43m,\u001b[49m\u001b[43m \u001b[49m\u001b[43mepochs\u001b[49m\u001b[38;5;241;43m=\u001b[39;49m\u001b[38;5;241;43m100\u001b[39;49m\u001b[43m,\u001b[49m\u001b[43m \u001b[49m\u001b[43mconfig_file\u001b[49m\u001b[38;5;241;43m=\u001b[39;49m\u001b[38;5;124;43m'\u001b[39;49m\u001b[38;5;124;43mNeuTraLAD/config/config-002.yml\u001b[39;49m\u001b[38;5;124;43m'\u001b[39;49m\u001b[43m,\u001b[49m\u001b[43m \u001b[49m\n\u001b[0;32m      3\u001b[0m \u001b[43m      \u001b[49m\u001b[43mradius\u001b[49m\u001b[38;5;241;43m=\u001b[39;49m\u001b[38;5;241;43m0.2\u001b[39;49m\u001b[43m,\u001b[49m\u001b[43m \u001b[49m\u001b[43mlamda\u001b[49m\u001b[38;5;241;43m=\u001b[39;49m\u001b[38;5;241;43m1\u001b[39;49m\u001b[43m,\u001b[49m\u001b[43m \u001b[49m\u001b[43moptim_idx\u001b[49m\u001b[38;5;241;43m=\u001b[39;49m\u001b[38;5;241;43m0\u001b[39;49m\u001b[43m)\u001b[49m\n",
      "File \u001b[1;32m~\\Desktop\\AD-Models\\torch\\main.py:144\u001b[0m, in \u001b[0;36mtrain\u001b[1;34m(modelName, source, batch_size, lr, epochs, config_file, radius, lamda, optim_idx)\u001b[0m\n\u001b[0;32m    141\u001b[0m     model \u001b[38;5;241m=\u001b[39m train_ntl(train_loader, test_loader\u001b[38;5;241m=\u001b[39mtest_loader, validation_loader\u001b[38;5;241m=\u001b[39mtest_loader, config_file\u001b[38;5;241m=\u001b[39mconfig_file)\n\u001b[0;32m    143\u001b[0m \u001b[38;5;28;01melif\u001b[39;00m modelName\u001b[38;5;241m==\u001b[39m\u001b[38;5;124m'\u001b[39m\u001b[38;5;124mdrocc\u001b[39m\u001b[38;5;124m'\u001b[39m:\n\u001b[1;32m--> 144\u001b[0m     model \u001b[38;5;241m=\u001b[39m \u001b[43mtrain_drocc\u001b[49m\u001b[43m(\u001b[49m\u001b[43mtrain_loader\u001b[49m\u001b[43m,\u001b[49m\u001b[43m \u001b[49m\u001b[43mtest_loader\u001b[49m\u001b[43m,\u001b[49m\u001b[43m \u001b[49m\u001b[43mradius\u001b[49m\u001b[38;5;241;43m=\u001b[39;49m\u001b[43mradius\u001b[49m\u001b[43m,\u001b[49m\u001b[43m \u001b[49m\u001b[43mlamda\u001b[49m\u001b[38;5;241;43m=\u001b[39;49m\u001b[43mlamda\u001b[49m\u001b[43m,\u001b[49m\u001b[43m \u001b[49m\u001b[43mlr\u001b[49m\u001b[38;5;241;43m=\u001b[39;49m\u001b[43mlr\u001b[49m\u001b[43m,\u001b[49m\u001b[43m \u001b[49m\u001b[43mdevice\u001b[49m\u001b[38;5;241;43m=\u001b[39;49m\u001b[38;5;124;43m'\u001b[39;49m\u001b[38;5;124;43mcuda\u001b[39;49m\u001b[38;5;124;43m'\u001b[39;49m\u001b[43m,\u001b[49m\u001b[43m \u001b[49m\n\u001b[0;32m    145\u001b[0m \u001b[43m                        \u001b[49m\u001b[43moptim_idx\u001b[49m\u001b[38;5;241;43m=\u001b[39;49m\u001b[43moptim_idx\u001b[49m\u001b[43m,\u001b[49m\u001b[43m \u001b[49m\u001b[43mmom\u001b[49m\u001b[38;5;241;43m=\u001b[39;49m\u001b[38;5;241;43m0\u001b[39;49m\u001b[43m,\u001b[49m\u001b[43m \u001b[49m\u001b[43mmetric\u001b[49m\u001b[38;5;241;43m=\u001b[39;49m\u001b[38;5;124;43m'\u001b[39;49m\u001b[38;5;124;43mAUC\u001b[39;49m\u001b[38;5;124;43m'\u001b[39;49m\u001b[43m,\u001b[49m\u001b[43m \u001b[49m\u001b[43mepochs\u001b[49m\u001b[38;5;241;43m=\u001b[39;49m\u001b[38;5;241;43m70\u001b[39;49m\u001b[43m,\u001b[49m\u001b[43m \u001b[49m\u001b[43mascent_step_size\u001b[49m\u001b[38;5;241;43m=\u001b[39;49m\u001b[38;5;241;43m0.001\u001b[39;49m\u001b[43m,\u001b[49m\u001b[43m \u001b[49m\u001b[43moce\u001b[49m\u001b[38;5;241;43m=\u001b[39;49m\u001b[38;5;241;43m50\u001b[39;49m\u001b[43m)\u001b[49m\n",
      "File \u001b[1;32m~\\Desktop\\AD-Models\\torch\\main.py:112\u001b[0m, in \u001b[0;36mtrain_drocc\u001b[1;34m(train_loader, test_loader, radius, lamda, lr, device, optim_idx, mom, metric, epochs, ascent_step_size, oce)\u001b[0m\n\u001b[0;32m    110\u001b[0m \u001b[38;5;28mprint\u001b[39m(\u001b[38;5;124mf\u001b[39m\u001b[38;5;124m'\u001b[39m\u001b[38;5;124mRaduis: \u001b[39m\u001b[38;5;132;01m{\u001b[39;00mradius\u001b[38;5;132;01m}\u001b[39;00m\u001b[38;5;124m'\u001b[39m)\n\u001b[0;32m    111\u001b[0m \u001b[38;5;28mprint\u001b[39m(\u001b[38;5;124mf\u001b[39m\u001b[38;5;124m'\u001b[39m\u001b[38;5;124mLamda: \u001b[39m\u001b[38;5;132;01m{\u001b[39;00mlamda\u001b[38;5;132;01m}\u001b[39;00m\u001b[38;5;124m'\u001b[39m)\n\u001b[1;32m--> 112\u001b[0m trainer \u001b[38;5;241m=\u001b[39m DROCCTrainer(model, optimizer, lamda, radius, \u001b[43mgamma\u001b[49m, device)\n\u001b[0;32m    115\u001b[0m trainer\u001b[38;5;241m.\u001b[39mtrain(train_loader, test_loader, lr, adjust_learning_rate, epochs,\n\u001b[0;32m    116\u001b[0m     metric\u001b[38;5;241m=\u001b[39mmetric, ascent_step_size\u001b[38;5;241m=\u001b[39mascent_step_size, only_ce_epochs\u001b[38;5;241m=\u001b[39moce)\n\u001b[0;32m    118\u001b[0m trainer\u001b[38;5;241m.\u001b[39msave(model_dir)\n",
      "\u001b[1;31mNameError\u001b[0m: name 'gamma' is not defined"
     ]
    }
   ],
   "source": [
    "train(modelName='drocc', source='../Datasets/datasets-00/', batch_size=8, \n",
    "      lr=0.0001, epochs=100, config_file='NeuTraLAD/config/config-002.yml', \n",
    "      radius=0.2, lamda=1, optim_idx=0)"
   ]
  },
  {
   "cell_type": "code",
   "execution_count": null,
   "id": "e5ead0f2-77c3-465c-9b2c-2420057c1789",
   "metadata": {},
   "outputs": [],
   "source": []
  },
  {
   "cell_type": "code",
   "execution_count": null,
   "id": "23ca8267-6c33-4623-b2a2-232aa7d84870",
   "metadata": {},
   "outputs": [],
   "source": []
  }
 ],
 "metadata": {
  "kernelspec": {
   "display_name": "Python 3 (ipykernel)",
   "language": "python",
   "name": "python3"
  },
  "language_info": {
   "codemirror_mode": {
    "name": "ipython",
    "version": 3
   },
   "file_extension": ".py",
   "mimetype": "text/x-python",
   "name": "python",
   "nbconvert_exporter": "python",
   "pygments_lexer": "ipython3",
   "version": "3.9.12"
  }
 },
 "nbformat": 4,
 "nbformat_minor": 5
}
