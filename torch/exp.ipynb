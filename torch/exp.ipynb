{
 "cells": [
  {
   "cell_type": "code",
   "execution_count": 1,
   "id": "66a2e5bd-44ad-443b-974c-2cfb7fe7f3f5",
   "metadata": {},
   "outputs": [],
   "source": [
    "from main import train"
   ]
  },
  {
   "cell_type": "code",
   "execution_count": null,
   "id": "ddf2b3e3-5afa-4509-b5fd-3002a6fd11bf",
   "metadata": {},
   "outputs": [
    {
     "name": "stdout",
     "output_type": "stream",
     "text": [
      "2 are Found: ['../Datasets/datasets-00//train/Running', '../Datasets/datasets-00//train/Walking']\n",
      "Loading Running........\n",
      "--------------------------------\n",
      "Loading Walking........\n",
      "--------------------------------\n",
      "[Errno 2] No such file or directory: 'RESULTS/experiment.log'\n",
      "Epoch: 1, TR loss: 0.9627347146311114, VAL loss: (0.9322013854980469, 0.9389039860215298), VL auc: 0.9086845930232558 VL ap: 0.8275109170305677 VL f1: 0.94542599926862 \n",
      "[Errno 2] No such file or directory: 'RESULTS/experiment.log'\n",
      "Epoch: 2, TR loss: 0.9302267874440839, VAL loss: (0.9305632019042969, 0.9349292488985284), VL auc: 0.964798934108527 VL ap: 0.9061135371179039 VL f1: 0.9733579674027972 \n",
      "[Errno 2] No such file or directory: 'RESULTS/experiment.log'\n",
      "Epoch: 4, TR loss: 0.929993414109753, VAL loss: (0.9303924560546875, 0.9338716019031613), VL auc: 0.9905717054263566 VL ap: 0.9475982532751092 VL f1: 0.9926118449509173 \n",
      "[Errno 2] No such file or directory: 'RESULTS/experiment.log'\n",
      "Epoch: 6, TR loss: 0.929519776375063, VAL loss: (0.9296364593505859, 0.9322548799736555), VL auc: 0.9748449612403101 VL ap: 0.9126637554585153 VL f1: 0.9809593132950345 \n",
      "[Errno 2] No such file or directory: 'RESULTS/experiment.log'\n",
      "Epoch: 8, TR loss: 0.9295018719088647, VAL loss: (0.9296345520019531, 0.9321206262869428), VL auc: 0.9761385658914729 VL ap: 0.9148471615720524 VL f1: 0.9820241318110333 \n",
      "[Errno 2] No such file or directory: 'RESULTS/experiment.log'\n",
      "Epoch: 10, TR loss: 0.9295156540409211, VAL loss: (0.9296330261230469, 0.9320911732754966), VL auc: 0.978842054263566 VL ap: 0.925764192139738 VL f1: 0.9840105895611958 \n",
      "[Errno 2] No such file or directory: 'RESULTS/experiment.log'\n",
      "Epoch: 12, TR loss: 0.9295088860296434, VAL loss: (0.9296244049072265, 0.9320187235987464), VL auc: 0.9615382751937984 VL ap: 0.8766375545851528 VL f1: 0.9708059593390533 \n",
      "[Errno 2] No such file or directory: 'RESULTS/experiment.log'\n",
      "Epoch: 14, TR loss: 0.9294903047623173, VAL loss: (0.9296112060546875, 0.9320111533468084), VL auc: 0.9626816860465116 VL ap: 0.8777292576419214 VL f1: 0.971716719835012 \n",
      "[Errno 2] No such file or directory: 'RESULTS/experiment.log'\n",
      "Epoch: 16, TR loss: 0.9294784915062689, VAL loss: (0.9296001434326172, 0.9320184870283733), VL auc: 0.9657291666666666 VL ap: 0.888646288209607 VL f1: 0.9739123035273424 \n",
      "[Errno 2] No such file or directory: 'RESULTS/experiment.log'\n",
      "Epoch: 18, TR loss: 0.9294708005843624, VAL loss: (0.92958984375, 0.9320245195728863), VL auc: 0.9690915697674418 VL ap: 0.8973799126637555 VL f1: 0.9763483922281511 \n"
     ]
    }
   ],
   "source": [
    "train(modelName='ntl', source='../Datasets/datasets-00/', batch_size=8, \n",
    "      lr=0.0001, epochs=100, config_file='NeuTraLAD/config/config-002.yml', \n",
    "      radius=0.2, lamda=1, optim_idx=0)"
   ]
  },
  {
   "cell_type": "code",
   "execution_count": null,
   "id": "e5ead0f2-77c3-465c-9b2c-2420057c1789",
   "metadata": {},
   "outputs": [],
   "source": []
  },
  {
   "cell_type": "code",
   "execution_count": null,
   "id": "23ca8267-6c33-4623-b2a2-232aa7d84870",
   "metadata": {},
   "outputs": [],
   "source": []
  }
 ],
 "metadata": {
  "kernelspec": {
   "display_name": "Python 3 (ipykernel)",
   "language": "python",
   "name": "python3"
  },
  "language_info": {
   "codemirror_mode": {
    "name": "ipython",
    "version": 3
   },
   "file_extension": ".py",
   "mimetype": "text/x-python",
   "name": "python",
   "nbconvert_exporter": "python",
   "pygments_lexer": "ipython3",
   "version": "3.9.12"
  }
 },
 "nbformat": 4,
 "nbformat_minor": 5
}
